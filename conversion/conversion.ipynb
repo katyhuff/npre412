{
 "cells": [
  {
   "cell_type": "markdown",
   "metadata": {},
   "source": [
    "# Conversion\n",
    "\n",
    "Conversion is the process by which yellowcake (primarily $U_3O_8$) becomes uranium hexafluoride ($UF_6$). This step is necessary because most enrichment processes require that the material reach a gaseous phase at relatively low temperatures. \n",
    "\n",
    "## Learning Objectives\n",
    "\n",
    "- Differentiate yellowcake from uranium hexafluoride according to chemical and physical differences.\n",
    "- Understand the physical reason that conversion is necessary.\n",
    "- Recognize the special features of Uranium hexafluoride ($UF_6$) that make it a suitable chemical form. \n",
    "- Model the energy balances and economics of uranium conversion.\n"
   ]
  },
  {
   "cell_type": "markdown",
   "metadata": {},
   "source": [
    "## Purification\n",
    "\n",
    "The feed must be very high purity for enrichment to be efficient.\n"
   ]
  },
  {
   "cell_type": "markdown",
   "metadata": {},
   "source": [
    "## Features of $UF_6$\n",
    "\n",
    "![https://upload.wikimedia.org/wikipedia/commons/1/1a/Uranium_hexafluoride_phase_diagram.gif](https://upload.wikimedia.org/wikipedia/commons/1/1a/Uranium_hexafluoride_phase_diagram.gif)\n",
    "\n",
    "\n",
    "###  Vote: What phase would it be in right now, in my hand?\n",
    "\n",
    "\n",
    "![https://upload.wikimedia.org/wikipedia/commons/f/fe/Uranium-hexafluoride-2D-V2.svg](https://upload.wikimedia.org/wikipedia/commons/f/fe/Uranium-hexafluoride-2D-V2.svg)\n",
    "\n",
    "![https://upload.wikimedia.org/wikipedia/commons/9/94/Uranium_hexafluoride_crystals_sealed_in_an_ampoule.jpg](https://upload.wikimedia.org/wikipedia/commons/9/94/Uranium_hexafluoride_crystals_sealed_in_an_ampoule.jpg)\n",
    "\n"
   ]
  },
  {
   "cell_type": "markdown",
   "metadata": {},
   "source": [
    "## Reduction \n",
    "\n",
    "The book says:\n",
    "\n",
    "> The U_3O_8 is ground to a fine powder where it is ... reduced by hydrogen.\n",
    "\n",
    "What does that mean? Well, it must mean you add hydrogen. Hydrogen, in gaseous form, is $H_2$, So, let's do a chemical equation balance and see what comes out:\n",
    "\n",
    "\n",
    "$$U_3O_8 + H_2 \\longrightarrow xUO_2 + ???$$\n",
    "\n",
    "$$U_3O_8 + 2H_2 \\longrightarrow 3UO_2 + 2H_2O$$\n"
   ]
  },
  {
   "cell_type": "markdown",
   "metadata": {},
   "source": [
    "## Hydro-fluorination\n",
    "\n",
    "Then, we have an interaction with anhydrous hydrogen fluoride (at $900-1000^\\circ F$) that produces uranium tetrafluoride.\n",
    "\n",
    "$$xHF + xUO_2 \\longrightarrow xUF_4 + xO  + xH$$\n",
    "\n",
    "\n",
    "We can balance this equation as well, and it becomes:\n",
    "\n",
    "\n",
    "$$4HF + UO_2 \\longrightarrow UF_4 + 2H_2O$$"
   ]
  },
  {
   "cell_type": "markdown",
   "metadata": {},
   "source": [
    "## Fluorination\n",
    "\n",
    "Once the \"hydrofluorination\" step is performed, the uranium tetrafluoride ($UF_4$) is fluorinated into uranium hexafluoride ($UF_6$).\n",
    "\n",
    "$$UF_4 + F_2 \\longrightarrow UF_6$$"
   ]
  },
  {
   "cell_type": "markdown",
   "metadata": {},
   "source": [
    "## Wet Solvent Extraction vs. Dry Hydrofluor\n",
    "\n",
    "The two processess have the same core features (reduction, hydrofluorination, and fluorination). But, they differ in two respects:\n",
    "\n",
    "- The dry process ends with a purification step (distillation)\n",
    "- The wet process begins with the purification step (solvent extraction and calcination)"
   ]
  },
  {
   "cell_type": "markdown",
   "metadata": {},
   "source": [
    "![http://nuclearstreet.com/images/img/duf.jpg](http://nuclearstreet.com/images/img/duf.jpg)\n",
    "\n",
    "\n",
    "![https://ars.els-cdn.com/content/image/3-s2.0-B9780081003077000119-f11-01-9780081003077.jpg](https://ars.els-cdn.com/content/image/3-s2.0-B9780081003077000119-f11-01-9780081003077.jpg)\n"
   ]
  },
  {
   "cell_type": "markdown",
   "metadata": {},
   "source": [
    "## Estimated world primary conversion capacity and UF6 production 2022 (WNA)\n",
    "\n",
    "\n",
    "| Company | Country | Location | Licensed Capacity (tU) | UF6 Production (tU) |\n",
    "| ------------ |:-------------:|:-------------:|:-------------:|:-------------:|\n",
    "| Cameco\t| Canada\t| Port Hope\t| 12,500\t| 10,600\n",
    "| CNNC (est.)* |\tChina\t| Lanzhou & Hengyang\t| 15,000\t| 10,500 |\n",
    "| ConverDyn\t| USA\t| Metropolis, IL |\t7000\t| 0 |\n",
    "| Orano\t| France\t| Pierrelatte, Malvesi\t| 15,000 | 8900 |\n",
    "Rosatom (est.)\t| Russia\t| Seversk |\t12,500\t| 12,000 |\n",
    "Total\t ||\t| \t62,000 |\t42,000 |\n",
    "\n",
    "US capacity at ConverDyn restarted in 2023. \n",
    "\n",
    "![Carmack and Huff](./carmack-huff-converdyn-2024.png)\n"
   ]
  },
  {
   "cell_type": "markdown",
   "metadata": {},
   "source": [
    "## Wrap-up\n",
    "\n",
    "- The conversion process is a high-temperature chemical process.\n",
    "- $UF_6$ is especially good for enrichment because it is solid at room temperature, but gaseous at slightly elevated temperatures (at atmospheric pressure).\n",
    "- Two main methods, dry hydrofluor and wet solvent extraction are used.\n",
    "- The difference between these methods is when the purification step occurs (first or last). "
   ]
  },
  {
   "cell_type": "markdown",
   "metadata": {},
   "source": [
    "## References\n",
    "\n",
    "This section was developed to complement pages 57-61 of [1]. \n",
    "\n",
    "[1] N. Tsoulfanidis, The Nuclear Fuel Cycle. La Grange Park, Illinois, USA: American Nuclear Society, 2013.\n"
   ]
  },
  {
   "cell_type": "code",
   "execution_count": null,
   "metadata": {
    "collapsed": true,
    "jupyter": {
     "outputs_hidden": true
    }
   },
   "outputs": [],
   "source": []
  }
 ],
 "metadata": {
  "anaconda-cloud": {},
  "kernelspec": {
   "display_name": "Python 3 (ipykernel)",
   "language": "python",
   "name": "python3"
  },
  "language_info": {
   "codemirror_mode": {
    "name": "ipython",
    "version": 3
   },
   "file_extension": ".py",
   "mimetype": "text/x-python",
   "name": "python",
   "nbconvert_exporter": "python",
   "pygments_lexer": "ipython3",
   "version": "3.12.7"
  }
 },
 "nbformat": 4,
 "nbformat_minor": 4
}
