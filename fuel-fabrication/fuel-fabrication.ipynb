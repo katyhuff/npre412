{
 "cells": [
  {
   "cell_type": "markdown",
   "metadata": {},
   "source": [
    "# Nuclear Fuel Fabrication\n",
    "\n",
    "Nuclear fuel production is a highly constrained and optimized process.\n",
    "\n",
    "## Learning Objectives\n",
    "\n",
    "- Differentiate fuel characteristics and materials in various reactor designs \n",
    "- List safety constraints driving fuel designs\n",
    "- Order the steps in PWR UOx fuel fabrication\n",
    "- Explain the role of fuel and cladding in providing a barrier to radionuclide release\n",
    "- Name appropriate criteria for selection of cladding materials\n",
    "- Compare the mechanims of typical fuel failures\n",
    "- Evaluate the potential costs of defects\n",
    "- Name the contributors to fuel fabrication costs\n"
   ]
  },
  {
   "cell_type": "markdown",
   "metadata": {},
   "source": [
    "## Safety Constraint: Controlling the Reactor\n",
    "\n",
    "Control rods and burnable poisons will be covered in detail next week in the reactor physics module. For now, note that cadmium and boron are important for managing excess reactivity because of their large absorption cross sections.\n",
    "\n",
    "\n"
   ]
  },
  {
   "cell_type": "markdown",
   "metadata": {},
   "source": [
    "## Safety Constraint: Containing the Fission Products\n",
    "\n",
    "![https://upload.wikimedia.org/wikipedia/commons/6/68/ThermalFissionYield.svg](https://upload.wikimedia.org/wikipedia/commons/6/68/ThermalFissionYield.svg)\n"
   ]
  },
  {
   "cell_type": "markdown",
   "metadata": {},
   "source": [
    "## CANDU\n",
    "\n",
    "\n",
    "- natural uranium\n",
    "- heavy water ($D_2O$)\n",
    "- online refuelling\n",
    "- each bundle: 50 cm long 10 cm diameter\n",
    "\n",
    "Uranium oxide for CANDUs begins as $U_3O_8$. It is then heated with argon and hydrogen to form UO2. The UO2 is then mixed with an organic binder and pressed into pellets, these pellets are then fired at a much higher temperature (in H2/Ar) to sinter it into a dense solid.\n",
    "\n",
    "![https://www.cameco.com/uranium_101/theme/img/media-library/full-size/1606-04.jpg](https://www.cameco.com/uranium_101/theme/img/media-library/full-size/1606-04.jpg)\n",
    "\n",
    "![https://www.cameco.com/uranium_101/theme/img/media-library/full-size/FuelBundle2_ns.jpg](https://www.cameco.com/uranium_101/theme/img/media-library/full-size/FuelBundle2_ns.jpg)\n",
    "\n",
    "![https://www.cameco.com/sites/default/files/2024-03/CFM%20carousel%204.jpeg](https://www.cameco.com/sites/default/files/2024-03/CFM%20carousel%204.jpeg)\n",
    "\n",
    "![https://canteach.candu.org/Image%20Library1/00000/CANDU6_Reactor_Assembly.jpg](https://canteach.candu.org/Image%20Library1/00000/CANDU6_Reactor_Assembly.jpg)\n",
    "\n",
    "![https://s-media-cache-ak0.pinimg.com/originals/09/fb/dc/09fbdc52c6e8e800586966ab183ff672.jpg](https://s-media-cache-ak0.pinimg.com/originals/09/fb/dc/09fbdc52c6e8e800586966ab183ff672.jpg)"
   ]
  },
  {
   "cell_type": "markdown",
   "metadata": {},
   "source": [
    "### Videos of CANDU Fuel Fabrication \n",
    "- [Cartoon Video](https://www.youtube.com/watch?v=PdiireQ1ino)\n",
    "- [Realistic Video](https://www.youtube.com/watch?v=xWgtXljqM1g)"
   ]
  },
  {
   "cell_type": "markdown",
   "metadata": {},
   "source": [
    "## PWR \n",
    "\n",
    "- UO2 fuel\n",
    "- Zircalloy cladding (typically)\n",
    "- Height: 4.1m\n",
    "- Hardware mostly Zircaloy (Zr with Sn, Fe, Cr)\n",
    "- Grid spacers: Zircaloy, Inconel, stainless steel\n",
    "- End pieces: Stainless steel, Inconel\n",
    "- 200-250 fuel assemblies per core\n",
    "- Each Assembly: \n",
    "  - 14 x 14 to 17 x 17 fuel elements\n",
    "  - 21cm x 21cm\n",
    "  - Fuel element size: 1 cm diameter, \n",
    "  - Fuel element height: 3.9m\n",
    "  - Assembly weight: 1400lb\n",
    "  - Enrichment: 3-5%\n",
    "  - May have separate burnable poison rods\n",
    "  \n",
    " ![http://image.slidesharecdn.com/08-usedfuelreprocessing-151015131254-lva1-app6891/95/08-used-fuel-reprocessing-19-638.jpg?cb=1444914934](http://image.slidesharecdn.com/08-usedfuelreprocessing-151015131254-lva1-app6891/95/08-used-fuel-reprocessing-19-638.jpg?cb=1444914934)\n",
    " \n",
    " ![https://syeilendrapramuditya.files.wordpress.com/2009/04/illust_fa_pwr.gif?w=500](https://syeilendrapramuditya.files.wordpress.com/2009/04/illust_fa_pwr.gif?w=500)"
   ]
  },
  {
   "cell_type": "markdown",
   "metadata": {},
   "source": [
    "\n",
    "![https://www.nrc.gov/images/materials/fuel-cycle-fac/fig030.gif](https://www.nrc.gov/images/materials/fuel-cycle-fac/fig030.gif)\n",
    "\n",
    "The \"pellet manufacturing\" step is somewhat complex.\n",
    "\n"
   ]
  },
  {
   "cell_type": "markdown",
   "metadata": {},
   "source": [
    "### Videos of PWR fuel fabrication\n",
    "\n",
    "- [Westinghouse in Sweden](https://www.youtube.com/watch?v=X0oSIJe_lyo)\n",
    "- [Westinghouse at Columbia Plant](https://www.youtube.com/watch?v=cL-A7fFXpIg)"
   ]
  },
  {
   "cell_type": "code",
   "execution_count": 1,
   "metadata": {},
   "outputs": [
    {
     "name": "stdout",
     "output_type": "stream",
     "text": [
      "Total pellets in a core 20380800\n",
      "Total rods in a core 50952\n"
     ]
    }
   ],
   "source": [
    "rod = 400 # pellets per rod\n",
    "assembly = 17*17 - 5*5 # assembly array minus control rod tubes\n",
    "core = 193 # typical number of assemblies per core\n",
    "print(\"Total pellets in a core\", core*assembly*rod)\n",
    "print(\"Total rods in a core\", core*assembly)"
   ]
  },
  {
   "cell_type": "markdown",
   "metadata": {},
   "source": [
    "## BWR\n",
    "\n",
    "A BWR has about 600-800 fuel assemblies per core. Each assembly:\n",
    "\n",
    "- 14ft (4.5m) tall\n",
    "- Zircalloy channel around the assembly\n",
    "- Hardware mostly Zircaloy (Zr with Sn, Fe, Cr)\n",
    "- Grid spacers: Zircaloy\n",
    "- Channel (aka shroud): Zircaloy\n",
    "- End pieces: Stainless steel\n",
    "- Each assembly\n",
    "  - 700lb\n",
    "  - 5.5x5.5 inches (14 cm x 14 cm) square assembly\n",
    "  - Fuel element array: 8 x 8 or 10 x 10\n",
    "  - Fuel element size: 1.25 cm diameter, height = 4.1m\n",
    "  - Enrichment: 2.5-4.5%\n",
    "  - May have Gd in some rods and variable enrichment in 3D\n",
    "\n",
    "![https://world-nuclear.org/images/articles/f0b39a6d-e486-48a0-a713-ba7849357091.jpg](https://world-nuclear.org/images/articles/f0b39a6d-e486-48a0-a713-ba7849357091.jpg)"
   ]
  },
  {
   "cell_type": "markdown",
   "metadata": {},
   "source": [
    "### Video of BWR fuel fabrication\n",
    "- [https://www.youtube.com/watch?v=bsZgVJLQiuo&t=576s](https://www.youtube.com/watch?v=bsZgVJLQiuo&t=576s)\n",
    "  "
   ]
  },
  {
   "cell_type": "markdown",
   "metadata": {
    "jp-MarkdownHeadingCollapsed": true
   },
   "source": [
    "### Zircalloy\n",
    "\n",
    "There is a phenomenal review paper called \"Selection of fuel cladding material for nuclear fission reactors.\" https://www.researchgate.net/publication/257519826_Selection_of_fuel_cladding_material_for_nuclear_fission_reactors . Many of the following images come directly from that paper.\n",
    "\n",
    "![./cladding_and_control.png](./cladding_and_control.png)\n",
    "\n",
    "![./common_reactor_mats.png](./common_reactor_mats.png)\n",
    "\n",
    "![./neutron_abs_zr.png](./neutron_abs_zr.png)\n",
    "\n",
    "![./xs_and_melt.png](./xs_and_melt.png)\n",
    "\n",
    "![./zr_tot_xs.png](./zr_tot_xs.png)\n",
    "\n",
    "\n",
    "![https://ars.els-cdn.com/content/image/1-s2.0-S1350630711001531-gr7.jpg](https://ars.els-cdn.com/content/image/1-s2.0-S1350630711001531-gr7.jpg)\n",
    "\n",
    "Fig. 7. Change in tensile stress with neutron irradiation in (a) austenitic stainless steel, AISI 316L; and (b) Zircaloy4. These graphs demonstrate that\n",
    "Zircalloy4 is much more resistant to higher neutron dose than austenitic stainless steel [34].\n"
   ]
  },
  {
   "cell_type": "markdown",
   "metadata": {},
   "source": [
    "# Fuel Failure\n",
    "\n",
    "\n",
    "Types of failure have changed over time and vary among reactor fuel types. The IAEA did [a comprehensive review of this topic recently.](http://www-pub.iaea.org/MTCD/Publications/PDF/Pub1445_web.pdf). In it, the following causes of fuel failure were noted:\n",
    "\n",
    "- Debris (particularly in BWRs)\n",
    "- Pellet-Cladding Interaction \n",
    "- Grid to Rod Fretting (particularly in PWRs)\n",
    "- Fuel Handling Incidents\n",
    "- Crud and Corrosion"
   ]
  },
  {
   "cell_type": "markdown",
   "metadata": {},
   "source": [
    "## Modeling of Failure\n",
    "\n",
    "\\begin{align}\n",
    "R &= r\\times\\frac{D}{N}\\\\ \n",
    "\\mbox{where}&\\\\\n",
    "R&=\\mbox{ an annual rod failure rate (leaking rods/rods in core)}\\\\\n",
    "N &= \\mbox{ the number of rods in core for all operating reactors with or without refuelling in the respective year}\\\\\n",
    "D &=\\mbox{ the number of leaking assemblies found and discharged from all operating reactors in a year}\\\\\n",
    "r &=\\mbox{ the average number of leaking rods per leaking assembly}\\\\\n",
    "\\end{align}\n",
    "\n",
    "The rate, r, according to IAEA, is equal to 1.1 for BWR, WWER-440 and CANDU fuel, and 1.3 for PWR and WWER-1000 fuel.\n",
    "\n",
    "\n",
    "![./fail_rates.png](./fail_rates.png) \n"
   ]
  },
  {
   "cell_type": "code",
   "execution_count": 1,
   "metadata": {},
   "outputs": [
    {
     "name": "stdout",
     "output_type": "stream",
     "text": [
      "6.33559140308982e-07\n"
     ]
    }
   ],
   "source": [
    "def rate(r, d, n):\n",
    "    return r*d/n\n",
    "\n",
    "r = 1.3 # pwr/wwer\n",
    "n = 17*17*200*213 # 213 pwr type reactors in the study\n",
    "d = 6\n",
    "print(rate(r,d,n))\n"
   ]
  },
  {
   "cell_type": "markdown",
   "metadata": {},
   "source": [
    "# Why does fuel fail?\n",
    "\n",
    "![./efpd.png](./efpd.png)\n",
    "![./discharge_burnups.png](./discharge_burnups.png)\n",
    "![./fail_causes.png](./fail_causes.png)\n",
    "![./fuel_fail_france.png](./fuel_fail_france.png) \n",
    "![./pwr_fail_world.png](./pwr_fail_world.png)\n",
    "![./non_fail.png](./non_fail.png)\n",
    "![./bwr_fail_world.png](./bwr_fail_world.png)\n",
    "![./non_fail_bwr.png](./non_fail_bwr.png)\n",
    "![./trend_by_type](./trend_by_type.png)\n",
    "\n"
   ]
  },
  {
   "cell_type": "markdown",
   "metadata": {},
   "source": [
    "## Grid to Rod Fretting\n",
    "\n",
    "![https://www.researchgate.net/profile/Sung-Deok_Hong/publication/241719473/figure/fig3/AS:316702794502149@1452519239544/Figure-2-PWR-fuel-assembly-and-spacer-grid.png](https://www.researchgate.net/profile/Sung-Deok_Hong/publication/241719473/figure/fig3/AS:316702794502149@1452519239544/Figure-2-PWR-fuel-assembly-and-spacer-grid.png)\n",
    "\n",
    "\n",
    "![./fretting.png](./fretting.png)\n",
    "\n",
    "\n",
    "## Crud and corrosion\n",
    "\n",
    "Over the course of operation, 'crud' develops on the fuel rods. It is composed primarily of nickel and iron that likely leaches from the stainless steel tubes running through the steem generator. The crud deposits on the fuel rods encourage corrosion of the cladding.\n",
    "\n",
    "\n",
    "![https://public.websites.umich.edu/~nuclear/labs/ecmf/research/pictures/02_CRUD.png](https://public.websites.umich.edu/~nuclear/labs/ecmf/research/pictures/02_CRUD.png)\n",
    "<center>From Michigan Engineering and the CASL Project</center>"
   ]
  },
  {
   "cell_type": "markdown",
   "metadata": {},
   "source": [
    "## Debris\n",
    "\n",
    "### Discussion: Filters can help with debris, but what other effects do they have on the reactor?\n",
    "\n",
    "![https://www.framatome.com/medias/wp-content/uploads/2024/12/05786fae6e77794305f3c1e9ab985982-1.jpg](https://www.framatome.com/medias/wp-content/uploads/2024/12/05786fae6e77794305f3c1e9ab985982-1.jpg)"
   ]
  },
  {
   "cell_type": "markdown",
   "metadata": {},
   "source": [
    "## PCI \n",
    "\n",
    "The following summary is from [an OECD report on PCI:](https://www.oecd-nea.org/science/pubs/2005/6004-pellet-clad.pdf)\n",
    "\n",
    "> Fuel and pellet behaviour mechanisms activated in PCI situations\n",
    "> \n",
    "> The behaviour of pellets in the interaction depends on many mechanisms potentially activated prior to, or during PCI, namely:\n",
    "> \n",
    "> - Densification/solid fission products and gaseous swelling under irradiation.\n",
    "> - Release of fission gases and volatile species.\n",
    "> - Evolution of thermal conductivity, elasticity constants, thermal and irradiation creep, temperature-induced or  microstructure-induced phenomena (porosities, re-crystallisation).\n",
    "> - Geometry of the pellets and their modifications by cracking. \n",
    "> \n",
    "> As concerns the clad:\n",
    "> \n",
    "> - Evolution of elasticity, plasticity, creep parameters (irradiation, temperature-induced).\n",
    "> - Dependence on the microstructure and manufacturing process and its evolution under fluence.\n",
    "> - Oxidation, hydridation.\n",
    "> - Sensitivity to stress corrosion-cracking.\n",
    "> \n",
    "> As concerns the interface:\n",
    "> - Formation of contact materials or bonding layers: zirconia/uranate compound including fission products.\n",
    "> - Friction. \n",
    "\n",
    "Increased burnups lead to higher cladding failure rates.\n",
    "\n",
    "\n",
    "![https://sanonofresafety.files.wordpress.com/2013/06/higherburnupcladdingfailurechart1.jpg](https://sanonofresafety.files.wordpress.com/2013/06/higherburnupcladdingfailurechart1.jpg)\n",
    "\n",
    "![./fuel_env.png](./fuel_env.png)\n",
    "\n",
    "U. S. Nuclear Waste Technical Review Board (NWTRB) fuel cladding failure chart (Figure 20 on page 56) and December 2010 report https://sanonofresafety.files.wordpress.com/2013/06/usnwtrb-evaloftechbasisforextendeddrystorageandtransportofusednuclearfuel2010-dec-eds_rpt.pdf\n",
    "\n",
    "\n",
    "![./pci.png](./pci.png)\n",
    "\n",
    "\n",
    "\n",
    "![./fuel_failure_overview.png](./fuel_failure_overview.png)\n",
    "\n",
    "\n",
    "![./fuel_fail_timeline.png](./fuel_fail_timeline.png)\n",
    "\n",
    "\n",
    "![https://sp-ao.shortpixel.ai/client/to_auto,q_glossy,ret_img,w_756/https://www.bluewaveailabs.com/wp-content/uploads/2022/12/Fuel-pellets-Kazatomprom.jpg](https://sp-ao.shortpixel.ai/client/to_auto,q_glossy,ret_img,w_756/https://www.bluewaveailabs.com/wp-content/uploads/2022/12/Fuel-pellets-Kazatomprom.jpg)\n",
    "<center>Cupped and annular fuel pellets seek to give fission product gases a place to escape. Image: Kazatomprom</center>\n",
    "\n",
    "![./dev-rad-resist-iaea.png](./dev-rad-resist-iaea.png)\n",
    "\n",
    "From IAEA Development of radiation resistant reactor core structural materials. "
   ]
  },
  {
   "cell_type": "markdown",
   "metadata": {},
   "source": [
    "## Review: BWR or PWR\n",
    "![./pwr_or_bwr.png](./pwr_or_bwr.png)\n"
   ]
  },
  {
   "cell_type": "markdown",
   "metadata": {},
   "source": [
    "## Metal Fuels\n",
    "\n",
    "One of the key downsides to oxide fuel is its lower thermal conductivity. \n",
    "\n",
    "![./peak_fuel_temp_uox.png](./peak_fuel_temp_uox.png)\n",
    "\n",
    "<center>Thermal profile in a UOx fuel rod</center>\n",
    "\n",
    "\n",
    "Metal fuels attempt to solve this problem. \n",
    "\n",
    "![https://image.cnbcfm.com/api/v1/image/106856162-1616091233218-TerraPower_BG_2.jpeg?v=1616091327&w=1480&h=833&ffmt=webp&vtcrop=y](https://image.cnbcfm.com/api/v1/image/106856162-1616091233218-TerraPower_BG_2.jpeg?v=1616091327&w=1480&h=833&ffmt=webp&vtcrop=y) \n",
    "\n",
    "\n",
    "![http://large.stanford.edu/courses/2013/ph241/waisberg1/images/f2big.png](http://large.stanford.edu/courses/2013/ph241/waisberg1/images/f2big.png)\n",
    "<center>IFR. (Metal fuel, sodium coolant)</center>\n",
    "\n",
    "The EBR-II reactor was a prototype for IFR. \n",
    "\n",
    "> The fuel consists of uranium rods 5 millimeters in diameter and 33 cm (13 inches) long . Enriched to 67% uranium-235 when fresh, the concentration dropped to approximately 65% upon removal. The rods also contained 10% zirconium. Each fuel element is placed inside a thin-walled stainless steel tube along with a small amount of sodium metal. The tube is welded shut at the top to form a unit 73 cm (29 inches) long. \n",
    "\n",
    "![https://upload.wikimedia.org/wikipedia/commons/thumb/2/2b/Ebr201.jpg/640px-Ebr201.jpg](https://upload.wikimedia.org/wikipedia/commons/thumb/2/2b/Ebr201.jpg/640px-Ebr201.jpg)\n",
    "\n",
    "\n",
    "### Metal Fuel Fabrication\n",
    "- Begin with a furnace containing a molten mixture of actinides, some fission products, and alloying constituents\n",
    "- Make a mold having an array of quartz tubes\n",
    "- Insert mold in furnace, seal, and evacuate\n",
    "- Lower mold into melt and increase pressure to force metal melt into tubes\n",
    "- Raise mold, cool, break to yield metal fuel pellets ~0.5m long.\n",
    "- Insert in metal clad as with oxide fuels\n",
    "\n",
    "![./metal_fab.png](./metal_fab.png)\n",
    "\n",
    "![./metal_fuel.png](./metal_fuel.png)\n",
    "---"
   ]
  },
  {
   "cell_type": "markdown",
   "metadata": {},
   "source": [
    "## TRISO Fuels\n",
    "\n",
    "- withstand high temperature (>= 1800C)\n",
    "- fission product containment\n",
    "- Can be embedded in graphite blocks or pebbles. \n",
    "- Can be embedded homogeneously or heterogeneously.\n",
    "\n",
    "\n",
    "### Video of Fabrication of TRISO particles\n",
    "- [https://www.youtube.com/watch?v=uR7VDqUbaCg](https://www.youtube.com/watch?v=uR7VDqUbaCg)\n",
    "\n",
    "\n",
    "\n",
    "\n",
    "\n",
    "---\n",
    "### Prismatic Compacts\n",
    "\n",
    "![https://upload.wikimedia.org/wikipedia/commons/thumb/8/8c/%22REFUELING_FLOOR%22_AT_ST._VRAIN_NUCLEAR_POWER_PLANT_-_NARA_-_544826.jpg/687px-%22REFUELING_FLOOR%22_AT_ST._VRAIN_NUCLEAR_POWER_PLANT_-_NARA_-_544826.jpg](https://upload.wikimedia.org/wikipedia/commons/thumb/8/8c/%22REFUELING_FLOOR%22_AT_ST._VRAIN_NUCLEAR_POWER_PLANT_-_NARA_-_544826.jpg/687px-%22REFUELING_FLOOR%22_AT_ST._VRAIN_NUCLEAR_POWER_PLANT_-_NARA_-_544826.jpg)\n",
    "<center>Ft. St. Vrain had Prismatic fuel</center>\n",
    "\n",
    "\n",
    "---\n",
    "\n",
    "![https://encrypted-tbn0.gstatic.com/images?q=tbn:ANd9GcQfJE9hGPSlwfz7hLxYfJ9t261YazZX70v4Tg&s](https://encrypted-tbn0.gstatic.com/images?q=tbn:ANd9GcQfJE9hGPSlwfz7hLxYfJ9t261YazZX70v4Tg&s)\n",
    "<center>Prismatic</center>\n",
    "\n",
    "\n",
    "---\n",
    "\n",
    "### Pebble Compacts\n",
    "\n",
    "![http://www.intechopen.com/source/html/42408/media/image1_w.jpg](http://www.intechopen.com/source/html/42408/media/image1_w.jpg)\n",
    "\n",
    "![https://eddiehonorato.files.wordpress.com/2011/08/triso-fuel1.jpg](https://eddiehonorato.files.wordpress.com/2011/08/triso-fuel1.jpg)\n",
    "<center>PBMR</center>\n",
    "\n",
    "![./pbmr.png](./pbmr.png)\n",
    "<center>PBMR</center>\n",
    "\n",
    "\n",
    "#### Annular pebbles\n",
    "\n",
    "![http://fhr.nuc.berkeley.edu/wp-content/uploads/2014/10/PEBBLE-SCHEMATIC-V2.png](http://fhr.nuc.berkeley.edu/wp-content/uploads/2014/10/PEBBLE-SCHEMATIC-V2.png)\n",
    "<center>Annular Pebbles, PBFHR</center>\n",
    "\n",
    "![http://arfc.npre.illinois.edu/img/research/multiphysics.png](http://arfc.npre.illinois.edu/img/research/multiphysics.png)\n",
    "\n",
    "\n",
    "---"
   ]
  },
  {
   "cell_type": "markdown",
   "metadata": {},
   "source": [
    "## Excercise: Using your intuition, sketch the temperature profiles for :\n",
    "- oxide fuel, \n",
    "- metal fuel, \n",
    "- prismatic triso compacts, \n",
    "- pebble triso compacts, \n",
    "- and annular triso compacts.\n",
    "\n",
    "\n",
    "![./peak_fuel_temp_uox.png](./peak_fuel_temp_uox.png)\n",
    "\n"
   ]
  },
  {
   "cell_type": "markdown",
   "metadata": {},
   "source": [
    "## Liquid Fuels\n",
    "\n",
    "Salts are a common fuel carrier. They have exceptional heat transfer behavior and remain in liquid phase due to a very high boiling point (1430C in the case of FLiBe). They also have a high melting point in comparison to other coolants (melting point 459.1C in the case of FLiBe).\n",
    "\n",
    "### Discussion: What does this high melting point mean in the event of a LOCA ?\n",
    "\n",
    "![https://upload.wikimedia.org/wikipedia/commons/thumb/d/d4/FLiBe.png/220px-FLiBe.png](https://upload.wikimedia.org/wikipedia/commons/thumb/d/d4/FLiBe.png/220px-FLiBe.png)\n",
    "\n",
    "![https://upload.wikimedia.org/wikipedia/commons/thumb/0/08/Molten_Salt_Reactor.svg/2000px-Molten_Salt_Reactor.svg.png](https://upload.wikimedia.org/wikipedia/commons/thumb/0/08/Molten_Salt_Reactor.svg/2000px-Molten_Salt_Reactor.svg.png)\n",
    "\n",
    "\n",
    "![https://arc-anglerfish-arc2-prod-bonnier.s3.amazonaws.com/public/IDDLLDAYIPD44YREC4B4ZC3X4Q.jpg](https://arc-anglerfish-arc2-prod-bonnier.s3.amazonaws.com/public/IDDLLDAYIPD44YREC4B4ZC3X4Q.jpg)\n",
    "\n",
    "\n",
    "![https://www.world-nuclear-news.org/images/articles/ThorCon%20nuclear%20island%20-%20460.jpg](https://www.world-nuclear-news.org/images/articles/ThorCon%20nuclear%20island%20-%20460.jpg)\n",
    "\n",
    "\n",
    "## Discussion: Common carrier and coolant salts are FLiBe and FLiNaK. Can you think of (neutronic) reasons why?\n",
    "\n",
    "\n",
    "## Problems with liquid fuels\n",
    "\n",
    "No material is perfect. \n",
    "\n",
    "\n",
    "### Lithium acivation to tritium. \n",
    "\n",
    "$^6$Li + n $\\Rightarrow$ $^4$He (2.05MeV) + $^3$T (2.75MeV)\n",
    "\n",
    "### Noble Metal plate-out\n",
    "\n",
    "Most fission products are able to form stable fluorides in FLiNaK and FLiBe fuel salts, but noble metals tend to plate out.\n",
    "\n",
    "![https://upload.wikimedia.org/wikipedia/commons/thumb/0/08/Molten_Salt_Reactor.svg/2000px-Molten_Salt_Reactor.svg.png](https://upload.wikimedia.org/wikipedia/commons/thumb/0/08/Molten_Salt_Reactor.svg/2000px-Molten_Salt_Reactor.svg.png)\n",
    "\n",
    "---"
   ]
  },
  {
   "cell_type": "markdown",
   "metadata": {},
   "source": [
    "## References\n",
    "\n",
    "This section was developed to complement pages 86-119 of [1]. \n",
    "\n",
    "[1] N. Tsoulfanidis, The Nuclear Fuel Cycle. La Grange Park, Illinois, USA: American Nuclear Society, 2013.\n"
   ]
  },
  {
   "cell_type": "code",
   "execution_count": null,
   "metadata": {
    "collapsed": true,
    "jupyter": {
     "outputs_hidden": true
    }
   },
   "outputs": [],
   "source": []
  }
 ],
 "metadata": {
  "anaconda-cloud": {},
  "kernelspec": {
   "display_name": "Python 3 (ipykernel)",
   "language": "python",
   "name": "python3"
  },
  "language_info": {
   "codemirror_mode": {
    "name": "ipython",
    "version": 3
   },
   "file_extension": ".py",
   "mimetype": "text/x-python",
   "name": "python",
   "nbconvert_exporter": "python",
   "pygments_lexer": "ipython3",
   "version": "3.12.7"
  }
 },
 "nbformat": 4,
 "nbformat_minor": 4
}
