{
 "cells": [
  {
   "cell_type": "markdown",
   "metadata": {},
   "source": [
    "Aside: [https://nyti.ms/2k7phfy](https://nyti.ms/2k7phfy)\n",
    "Also: [https://nyti.ms/2kbI2yn](https://nyti.ms/2kbI2yn)\n",
    "\n",
    "\n",
    "# Non-Proliferation and Safeguards\n",
    "\n",
    "This unit covers discussions of nuclear non-proliferation and safeguards in the context of nuclear power and the nuclear fuel cycle. "
   ]
  },
  {
   "cell_type": "code",
   "execution_count": 1,
   "metadata": {
    "scrolled": true
   },
   "outputs": [
    {
     "data": {
      "text/html": [
       "\n",
       "        <iframe\n",
       "            width=\"700\"\n",
       "            height=\"400\"\n",
       "            src=\"https://embed.polleverywhere.com/free_text_polls/LaKxXWF9y4JKkue?short_poll=true\"\n",
       "            frameborder=\"0\"\n",
       "            allowfullscreen\n",
       "        ></iframe>\n",
       "        "
      ],
      "text/plain": [
       "<IPython.lib.display.IFrame at 0x7fc31ea32990>"
      ]
     },
     "execution_count": 1,
     "metadata": {},
     "output_type": "execute_result"
    }
   ],
   "source": [
    "from IPython.display import IFrame\n",
    "IFrame(\"https://embed.polleverywhere.com/free_text_polls/LaKxXWF9y4JKkue?short_poll=true\", width=\"700\", height=\"400\")"
   ]
  },
  {
   "cell_type": "code",
   "execution_count": 2,
   "metadata": {},
   "outputs": [
    {
     "data": {
      "text/html": [
       "\n",
       "        <iframe\n",
       "            width=\"700\"\n",
       "            height=\"400\"\n",
       "            src=\"https://embed.polleverywhere.com/multiple_choice_polls/YiHjKwlUd1Cit6s?short_poll=true\"\n",
       "            frameborder=\"0\"\n",
       "            allowfullscreen\n",
       "        ></iframe>\n",
       "        "
      ],
      "text/plain": [
       "<IPython.lib.display.IFrame at 0x7fc31fe899d0>"
      ]
     },
     "execution_count": 2,
     "metadata": {},
     "output_type": "execute_result"
    }
   ],
   "source": [
    "IFrame(\"https://embed.polleverywhere.com/multiple_choice_polls/YiHjKwlUd1Cit6s?short_poll=true\", width=\"700\", height=\"400\")"
   ]
  },
  {
   "cell_type": "code",
   "execution_count": 3,
   "metadata": {},
   "outputs": [
    {
     "data": {
      "text/html": [
       "\n",
       "        <iframe\n",
       "            width=\"700\"\n",
       "            height=\"400\"\n",
       "            src=\"https://embed.polleverywhere.com/free_text_polls/lBcbliuSuQGKea6?short_poll=true\"\n",
       "            frameborder=\"0\"\n",
       "            allowfullscreen\n",
       "        ></iframe>\n",
       "        "
      ],
      "text/plain": [
       "<IPython.lib.display.IFrame at 0x7fc31fe89e50>"
      ]
     },
     "execution_count": 3,
     "metadata": {},
     "output_type": "execute_result"
    }
   ],
   "source": [
    "IFrame(\"https://embed.polleverywhere.com/free_text_polls/lBcbliuSuQGKea6?short_poll=true\", width=\"700\", height=\"400\")"
   ]
  },
  {
   "cell_type": "markdown",
   "metadata": {},
   "source": [
    "![https://dch81km8r5tow.cloudfront.net/wp-content/uploads/2015/08/Huck-Nuclear-Hiroshima-C-958x559.jpg](https://dch81km8r5tow.cloudfront.net/wp-content/uploads/2015/08/Huck-Nuclear-Hiroshima-C-958x559.jpg)\n",
    "Source: [Huck Magazine Photography by Campaign for Nuclear Disarmament](https://www.huckmag.com/perspectives/activism-2/anti-nuclear-protest-art-will-stop-tracks/)\n",
    "\n",
    "## Learning Objectives\n",
    "\n",
    "\n",
    "At the end of this lesson, you will be equipped to:\n",
    "\n",
    "- Recognize the position and history of movements against nuclear weapons.\n",
    "- List key events in the history of nuclear weapons.\n",
    "- Identify nuclear weapons states.\n",
    "- Characterize the agreements between nuclear weapons states.\n",
    "- Analyze the historical relationship between nuclear weapons and nuclear power.\n",
    "- Name the national and international agency primarily responsible for enforcing non-proliferation treaties.\n",
    "- Recognize methods used to enforce nuclear safeguards.\n",
    "- Calculate MUF .\n",
    "- Calculate $\\sigma_{MUF}$.\n",
    "- Calculate signficant quantities (SQ).\n",
    "- Recognize the role of uncertainty in IAEA safeguards.\n",
    "- Evaluate compliance with the three sigma limit ($MUF< 3\\sigma_{MUF}$)\n",
    "- Evaluate compliance with the cumulative MUF limit. ($MUF_c < 1 SQ$)\n",
    "- Apply knowledge of the NPT to current and recent events. \n",
    "- Discuss the failures of our nuclear weapons program (e.g. Bikini Atoll)\n",
    "\n"
   ]
  },
  {
   "cell_type": "markdown",
   "metadata": {},
   "source": [
    "## Art to Consider\n",
    "\n",
    "\n",
    "![https://upload.wikimedia.org/wikipedia/commons/thumb/d/d2/Peace_sign.svg/220px-Peace_sign.svg.png](https://upload.wikimedia.org/wikipedia/commons/thumb/d/d2/Peace_sign.svg/220px-Peace_sign.svg.png)\n"
   ]
  },
  {
   "cell_type": "markdown",
   "metadata": {},
   "source": [
    "### Hiroshima survivor Hiroharu Kono\n",
    "\n",
    "![https://dch81km8r5tow.cloudfront.net/wp-content/uploads/2015/08/hiroshima-museum.jpg](https://dch81km8r5tow.cloudfront.net/wp-content/uploads/2015/08/hiroshima-museum.jpg)\n",
    "\n",
    "\n",
    "### Yusaku Kamekura\n",
    "\n",
    "![https://dch81km8r5tow.cloudfront.net/wp-content/uploads/2015/08/f8cca55bdd5014300ca91e5e830ab52a.jpg](https://dch81km8r5tow.cloudfront.net/wp-content/uploads/2015/08/f8cca55bdd5014300ca91e5e830ab52a.jpg)\n",
    "\n",
    "\n",
    "### A compendium of these\n",
    "\n",
    "https://www.huckmag.com/article/anti-nuclear-protest-art-will-stop-tracks"
   ]
  },
  {
   "cell_type": "markdown",
   "metadata": {},
   "source": [
    "# How Did We Get Here?\n",
    "\n",
    "\n",
    "\n",
    "## The Making of the Atomic Bomb\n",
    "\n",
    "The best way to learn about this topic is to read Richard Rhodes excellent book, The Making of The Atomic Bomb. \n",
    "\n",
    "\n",
    "\n",
    "However, let's summarize:\n",
    "\n",
    "### 1930 \n",
    "German nationalists acheive shocking election victory.\n",
    "\n",
    "\n",
    "### 1938 \n",
    "Theory of Nuclear Fission (Discovered on December 17,  1938 and explained theoretically in January 1939).\n",
    "\n",
    "![https://images.theconversation.com/files/257317/original/file-20190205-86205-ff9763.jpg?ixlib=rb-1.1.0&q=45&auto=format&w=1200&h=1200.0&fit=crop](https://images.theconversation.com/files/257317/original/file-20190205-86205-ff9763.jpg?ixlib=rb-1.1.0&q=45&auto=format&w=1200&h=1200.0&fit=crop)\n",
    "\n",
    "\n",
    "### 1939\n",
    " Szilard and Wigner draft the Einstein-Szilard letter. \n",
    "\n",
    "<a title=\"Albert Einstein [Public domain], via Wikimedia Commons\" href=\"https://commons.wikimedia.org/wiki/File%3AEinstein-Roosevelt-letter.png\"><img width=\"1500\" alt=\"Einstein-Roosevelt-letter\" src=\"https://upload.wikimedia.org/wikipedia/commons/b/bf/Einstein-Roosevelt-letter.png\"/></a>"
   ]
  },
  {
   "cell_type": "markdown",
   "metadata": {},
   "source": [
    "### 1940 - 1946\n",
    "Manhattan Project\n",
    "\n",
    "The project to build the bomb was undertaken across many states in the US, with great secrecy.\n",
    "\n",
    "![https://upload.wikimedia.org/wikipedia/commons/thumb/5/5b/Manhattan_Project_US_Canada_Map_2.svg/700px-Manhattan_Project_US_Canada_Map_2.svg.png](https://upload.wikimedia.org/wikipedia/commons/thumb/5/5b/Manhattan_Project_US_Canada_Map_2.svg/700px-Manhattan_Project_US_Canada_Map_2.svg.png)\n",
    "\n",
    "At the University of Chicago, a group of scientists in the metallurgical laboratory (the Met Lab) were attempting to beat Heisenberg at attaining a controlled nuclear fission chain reaction. \n",
    "\n",
    "\n",
    "![https://media.npr.org/assets/img/2017/11/28/1128_nuclear-reaction01_slide-a114c8be64b5a55308f67fec7a470c91a0c4641b-s800-c85.jpg](https://media.npr.org/assets/img/2017/11/28/1128_nuclear-reaction01_slide-a114c8be64b5a55308f67fec7a470c91a0c4641b-s800-c85.jpg)\n",
    "\n",
    "\n",
    "\n",
    "\n",
    "![http://1.bp.blogspot.com/_zJpnTu57Koc/TOfleUGOP2I/AAAAAAAAYV8/Emhujm51JBs/s1600/LI-sculp-WP-060b.jpg](http://1.bp.blogspot.com/_zJpnTu57Koc/TOfleUGOP2I/AAAAAAAAYV8/Emhujm51JBs/s1600/LI-sculp-WP-060b.jpg)\n",
    "\n",
    "\n",
    "![https://atomictrauma.files.wordpress.com/2012/04/cropped-manhattan-project-sign6.jpg](https://atomictrauma.files.wordpress.com/2012/04/cropped-manhattan-project-sign6.jpg)"
   ]
  },
  {
   "cell_type": "markdown",
   "metadata": {},
   "source": [
    "## Discussion: How many people and how many years do you think a new nation would need to go from nothing to a nuclear weapon?\n",
    "\n"
   ]
  },
  {
   "cell_type": "markdown",
   "metadata": {},
   "source": [
    "### July, 16 1945 \n",
    "\n",
    "- Trinity Nuclear Test\n",
    "- \"The Gadget\"/\"Fat Man\"\n",
    "  - 6.19-kilogram (13.6 lb) Pu\n",
    "  - Implosion type plutonium weapon\n",
    "  - energy equivalent of 22 kilotons of TNT (92 TJ)\n",
    "  \n",
    "<p><a href=\"https://commons.wikimedia.org/wiki/File:Fat_Man_Internal_Components.png#/media/File:Fat_Man_Internal_Components.png\"><img src=\"https://upload.wikimedia.org/wikipedia/commons/1/1e/Fat_Man_Internal_Components.png\" alt=\"Fat Man Internal Components.png\"></a><br><a href=\"http://creativecommons.org/licenses/by-sa/3.0/\" title=\"Creative Commons Attribution-Share Alike 3.0\">CC BY-SA 3.0</a>, <a href=\"https://commons.wikimedia.org/w/index.php?curid=5257823\">This is a derivative of a John Coster-Mullen drawing on page 140 of the 2003 printing of his book, \"Atomic Bombs\"</a></p>\n",
    "  \n",
    "<a title=\"By Berlyn Brixner [Public domain], via Wikimedia Commons\" href=\"https://commons.wikimedia.org/wiki/File%3ATrinity_Test_Fireball_16ms.jpg\"><img width=\"512\" alt=\"Trinity Test Fireball 16ms\" src=\"https://upload.wikimedia.org/wikipedia/commons/thumb/7/78/Trinity_Test_Fireball_16ms.jpg/512px-Trinity_Test_Fireball_16ms.jpg\"/>By Berlyn Brixner [Public domain], via Wikimedia Commons</a>\n",
    "\n",
    "![https://upload.wikimedia.org/wikipedia/commons/thumb/3/35/Trinity_Site_Obelisk_National_Historic_Landmark.jpg/768px-Trinity_Site_Obelisk_National_Historic_Landmark.jpg](https://upload.wikimedia.org/wikipedia/commons/thumb/3/35/Trinity_Site_Obelisk_National_Historic_Landmark.jpg/768px-Trinity_Site_Obelisk_National_Historic_Landmark.jpg)"
   ]
  },
  {
   "cell_type": "markdown",
   "metadata": {},
   "source": [
    "### 8:15 a.m., August 6, 1945\n",
    "\n",
    "- Hiroshima\n",
    "- population 340,000 - 350,000\n",
    "- Enola Gay, B-29\n",
    "- \"Little Boy\"\n",
    "  - contained 64 kg (141 lb) of enriched uranium.\n",
    "  - less than 1 kg completely detonated.\n",
    "  - energy equivalent of 15 kilotons of TNT (63 TJ).\n",
    "  - gun type.\n",
    "- 70,000 people dead instantly. \n",
    "- 90,000–166,000 after the first year. About 70% of the city's buildings were destroyed, and another 7% severely damaged.\n",
    "\n",
    "<a title=\"By US government DOD and/or DOE photograph [Public domain], via Wikimedia Commons\" href=\"https://commons.wikimedia.org/wiki/File%3ALittle_boy.jpg\"><img width=\"512\" alt=\"Little boy\" src=\"https://upload.wikimedia.org/wikipedia/commons/6/6a/Little_boy.jpg\"/></a>\n",
    "\n",
    "\n",
    "<p><a href=\"https://commons.wikimedia.org/wiki/File:Little_Boy_Internal_Components.png#/media/File:Little_Boy_Internal_Components.png\"><img src=\"https://upload.wikimedia.org/wikipedia/commons/d/d1/Little_Boy_Internal_Components.png\" alt=\"Little Boy Internal Components.png\"></a><br><a href=\"http://www.gnu.org/copyleft/fdl.html\" title=\"GNU Free Documentation License\">GFDL</a>, <a href=\"https://commons.wikimedia.org/w/index.php?curid=5240437\">John Coster-Mullen, via Wikipedia</a></p>"
   ]
  },
  {
   "cell_type": "markdown",
   "metadata": {},
   "source": [
    "### 11:02 a.m., August 9, 1945\n",
    "\n",
    "\n",
    "- Nagasaki.\n",
    "- population 263,000\n",
    "- Bockscar, B-29\n",
    "- \"Fat Man\"\n",
    "  - contained 14 pounds (6.4 kg) Pu\n",
    "  - energy equivalent of 21 kilotons of TNT (88 TJ; 1 g mass equivalent)\n",
    "  - implosion type\n",
    "- 35,000 people were killed instantly\n",
    "- 39,000 - 80,000 by the end of 1945\n",
    "- Fireball temp 3,900 °C (7,050 °F) \n",
    "- Winds over 1,000 km/h (620 mph)\n",
    "\n",
    "<a title=\"By U.S. Department of Defense (U.S. Department of Defense) [Public domain], via Wikimedia Commons\" href=\"https://commons.wikimedia.org/wiki/File%3AFat_man.jpg\"><img width=\"512\" alt=\"Fat man\" src=\"https://upload.wikimedia.org/wikipedia/commons/c/c2/Fat_man.jpg\"/></a>"
   ]
  },
  {
   "cell_type": "markdown",
   "metadata": {},
   "source": [
    "### 6:45 a.m., March 1, 1954\n",
    "\n",
    "\n",
    "- Castle Bravo.\n",
    "- dry fuel hydrogen bomb\n",
    "- energy released: 15 megatons of TNT\n",
    "- vastly (2.5x) exceeded expected  4 to 8 megatons (because of an unexpectedly high involvement of lithium-7 in the fusion reaction)\n",
    "- shifting winds ---> greatest contamination ever perpetrated by the U.S. \n",
    "- Japanese fishing boat (fishermen died, contaminated fish were sold)\n",
    "\n",
    "\n",
    "![https://upload.wikimedia.org/wikipedia/commons/f/f7/Bravo_fallout2.png](https://upload.wikimedia.org/wikipedia/commons/f/f7/Bravo_fallout2.png)\n",
    "\n",
    "\n",
    "<p><a href=\"https://commons.wikimedia.org/wiki/File:Teller-Ulam_device.png#/media/File:Teller-Ulam_device.png\"><img src=\"https://upload.wikimedia.org/wikipedia/commons/8/8c/Teller-Ulam_device.png\" alt=\"Teller-Ulam device.png\"></a><br>Public Domain, <a href=\"https://commons.wikimedia.org/w/index.php?curid=44858\">One possible version of the Teller–Ulam configuration</a></p>"
   ]
  },
  {
   "cell_type": "code",
   "execution_count": 4,
   "metadata": {},
   "outputs": [
    {
     "data": {
      "text/html": [
       "\n",
       "        <iframe\n",
       "            width=\"700\"\n",
       "            height=\"400\"\n",
       "            src=\"https://www.youtube.com/embed/C4LqqA4GdsY?frameborder=0\"\n",
       "            frameborder=\"0\"\n",
       "            allowfullscreen\n",
       "        ></iframe>\n",
       "        "
      ],
      "text/plain": [
       "<IPython.lib.display.IFrame at 0x7fc31febc410>"
      ]
     },
     "execution_count": 4,
     "metadata": {},
     "output_type": "execute_result"
    }
   ],
   "source": [
    "IFrame(\"https://www.youtube.com/embed/C4LqqA4GdsY\", width=\"700\", height=\"400\",frameborder=\"0\")"
   ]
  },
  {
   "cell_type": "markdown",
   "metadata": {},
   "source": [
    "### 11:32 a.m. October 30, 1961\n",
    "\n",
    "- Tsar Bomba / Ivan / Vanya (in Russia, one of George Carlin's Words You Can't Say on Television)\n",
    "- Soviet RDS-220, three-stage hydrogen bomb\n",
    "  - 2nd/3rd stages had 238U \"tamper\" to reduce fast fissions & fallout\n",
    "  - 97% of the total yield resulted from thermonuclear fusion\n",
    "  - energy released: 50 megaton TNT (210 PJ)\n",
    "\n",
    "\n",
    "<a title=\"By Fastfission [Public domain], via Wikimedia Commons\" href=\"https://commons.wikimedia.org/wiki/File%3AComparative_nuclear_fireball_sizes.svg\"><img width=\"512\" alt=\"Comparative nuclear fireball sizes\" src=\"https://upload.wikimedia.org/wikipedia/commons/thumb/f/f9/Comparative_nuclear_fireball_sizes.svg/512px-Comparative_nuclear_fireball_sizes.svg.png\"/></a>\n",
    "\n",
    "<p><a href=\"https://en.wikipedia.org/wiki/File:Tsar01.jpg#/media/File:Tsar01.jpg\"><img src=\"https://upload.wikimedia.org/wikipedia/en/3/34/Tsar01.jpg\" alt=\"Tsar01.jpg\"></a><br>By <a rel=\"nofollow\" class=\"external free\" href=\"https://web.archive.org/web/20080518004931/http://www.atomicforum.org/russia/tsarbomba.html\">https://web.archive.org/web/20080518004931/http://www.atomicforum.org/russia/tsarbomba.html</a>, Fair use, <a href=\"https://en.wikipedia.org/w/index.php?curid=16874909\">The Tsar Bomba fireball. From [http://www.atomicforum.org/russia/tsarbomba.html] {{Non-free historic image}} == Fair use for Tsar Bomba and History of the Teller–Ulam design </a></p>\n",
    "\n",
    "\n",
    "<p><a href=\"https://commons.wikimedia.org/wiki/File:Tsar_Bomba_Paris.png#/media/File:Tsar_Bomba_Paris.png\"><img src=\"https://upload.wikimedia.org/wikipedia/commons/1/1c/Tsar_Bomba_Paris.png\" alt=\"Tsar Bomba Paris.png\"></a><br>By <a href=\"//commons.wikimedia.org/wiki/User:Bourrichon\" title=\"User:Bourrichon\">Bourrichon</a> - Own work based on numbers from the <a href=\"https://fr.wikipedia.org/wiki/Tsar_Bomba\" class=\"extiw\" title=\"fr:Tsar Bomba\">fr-Wikipedia article</a> on <a href=\"//commons.wikimedia.org/wiki/File:Paris.landsat.arp.750pix.jpg\" title=\"File:Paris.landsat.arp.750pix.jpg\">a NASA map</a>., <a href=\"https://creativecommons.org/licenses/by-sa/3.0\" title=\"Creative Commons Attribution-Share Alike 3.0\">CC BY-SA 3.0</a>, <a href=\"https://commons.wikimedia.org/w/index.php?curid=3986378\">Tsar Bomba total destruction radius, superimposed on Paris.</a></p>"
   ]
  },
  {
   "cell_type": "markdown",
   "metadata": {},
   "source": [
    "### October 16–28, 1962 \n",
    "Cuban Missile Crisis. The US, led by Kennedy, had strained relations with the Soviet Union, led by Khruschev. US Navy blocked missile shipments to Cuba. \n",
    "Eventaully, the standoff resulted in \n",
    "- Removal of the Soviet Union's nuclear missiles from Cuba\n",
    "- Removal of American nuclear missiles from Turkey and Italy\n",
    "- Agreement with the Soviet Union that the United States would never invade Cuba without direct provocation\n",
    "- Creation of a nuclear hotline between the United States and the Soviet Union"
   ]
  },
  {
   "cell_type": "markdown",
   "metadata": {},
   "source": [
    "### 1963\n",
    "Partial test ban treaty. The Partial Test Ban Treaty (PTBT) is officially the 1963 Treaty Banning Nuclear Weapon Tests in the Atmosphere, in Outer Space and Under Water, which prohibited all test detonations of nuclear weapons except for those conducted underground. \n"
   ]
  },
  {
   "cell_type": "markdown",
   "metadata": {
    "collapsed": true
   },
   "source": [
    "## 1970 : NPT\n",
    "\n",
    "Opened for signature in 1968, the treaty entered into force in 1970\n",
    "\n",
    "\n",
    "The goals of the NPT were to: \n",
    "\n",
    "- Prevent the spread of nuclear weapons\n",
    "- Promote cooperation in peaceful uses of nuclear technology\n",
    "- Acheive nuclear disarmament\n",
    "\n",
    "Accordingly: \n",
    "\n",
    "- Countries with weapons (UK, US, USSR, France, China) agree not to share.\n",
    "- Countries without nuclear weapons promised not to develop them in return for nuclear power technology.\n",
    "- Those that already have weapons agreed to disarm. (Article 6: Countries must \"negotiate in good faith.\")\n",
    "\n",
    "NPT is reviewed annually. \n",
    "\n",
    "### Membership\n",
    "\n",
    "<p><a href=\"https://commons.wikimedia.org/wiki/File:NPT_parties.svg#/media/File:NPT_parties.svg\"><img src=\"https://upload.wikimedia.org/wikipedia/commons/thumb/b/ba/NPT_parties.svg/1200px-NPT_parties.svg.png\" alt=\"NPT parties.svg\"></a><br>By <a href=\"//commons.wikimedia.org/wiki/File:NPT_Participation.svg\" title=\"File:NPT Participation.svg\">File:NPT Participation.svg</a>: <a href=\"//commons.wikimedia.org/wiki/User:Allstar86\" title=\"User:Allstar86\">Allstar86</a>, <a href=\"//commons.wikimedia.org/wiki/User:L.tak\" title=\"User:L.tak\">L.tak</a>, <a href=\"//commons.wikimedia.org/w/index.php?title=User:Danlaycock&amp;action=edit&amp;redlink=1\" class=\"new\" title=\"User:Danlaycock (page does not exist)\">Danlaycock</a>\n",
    "derivative work: <a href=\"//commons.wikimedia.org/w/index.php?title=User:Danlaycock&amp;action=edit&amp;redlink=1\" class=\"new\" title=\"User:Danlaycock (page does not exist)\">Danlaycock</a> - This file was derived from:\n",
    "&nbsp;<a href=\"//commons.wikimedia.org/wiki/File:NPT_Participation.svg\" title=\"File:NPT Participation.svg\">NPT Participation.svg</a>, <a href=\"http://creativecommons.org/licenses/by-sa/3.0\" title=\"Creative Commons Attribution-Share Alike 3.0\">CC BY-SA 3.0</a>, <a href=\"https://commons.wikimedia.org/w/index.php?curid=31123238\">Link</a></p>\n",
    "\n",
    "\n",
    "![./legend.png](./legend.png)\n",
    "\n",
    "#### Renegged\n",
    "Only North Korea has backed out of their agreement. \n",
    "\n",
    "\n",
    "#### Never signed\n",
    "\n",
    "Indian, Pakistan, and Israel never joined. All three now have weapons. \n",
    "\n",
    "\n"
   ]
  },
  {
   "cell_type": "markdown",
   "metadata": {},
   "source": [
    "### 1996 \n",
    "\n",
    "Comprehensive Test Ban Treaty\n",
    "\n",
    "<a title=\"By derivative work: Allstar86 (talk) BlankMap-World6,_compact.svg: Canuckguy et al. (BlankMap-World6,_compact.svg) [CC BY-SA 3.0 (https://creativecommons.org/licenses/by-sa/3.0) or GFDL (http://www.gnu.org/copyleft/fdl.html)], via Wikimedia Commons\" href=\"https://commons.wikimedia.org/wiki/File%3ACTBT_Participation.svg\"><img width=\"1028\" alt=\"CTBT Participation\" src=\"https://upload.wikimedia.org/wikipedia/commons/thumb/b/be/CTBT_Participation.svg/1028px-CTBT_Participation.svg.png\"/></a>\n",
    "\n",
    "![./ctbt-legend.png](./ctbt-legend.png)"
   ]
  },
  {
   "cell_type": "markdown",
   "metadata": {},
   "source": [
    "\n",
    "## Megatons to Megawatts (1993 - 2013)\n",
    "\n",
    "- **20** year program\n",
    "- **500 tons** of HEU (**90%** enriched)\n",
    "- Soviet era warheads -> downblended to $<5\\%$ enriched \n",
    "- To be implemented on commercial terms without government funds. \n",
    "  - United States named Enrichment Corporation (USEC) as the commercial agent\n",
    "  - the Russian Federation designated Techsnabexport (TENEX) as its commercial agent.\n",
    "- The first shipment of LEU took place in May 1995.\n",
    "\n",
    "\n",
    "![http://www.centrusenergy.com/wp-content/uploads/2016/03/MegatonstToMegawatts20KLogoStack-History-Slider.png](http://www.centrusenergy.com/wp-content/uploads/2016/03/MegatonstToMegawatts20KLogoStack-History-Slider.png)\n",
    "\n",
    "\n",
    "**Practice: Can You prove this is an accurate statement?**\n",
    "\n",
    "\n",
    "Think back to enrichment. This is another feed factor problem. \n",
    "\n",
    "\\begin{align}\n",
    "x_p &= 0.05\\\\\n",
    "x_w &= 0.002\\\\\n",
    "x_f &= 0.9\\\\\n",
    "\\end{align}\n",
    "\n",
    "Thus, we can find the feed factor (kg feed per kg enriched):\n",
    "\n",
    "\\begin{align}\n",
    "FF &= \\frac{F}{P}\\\\\n",
    "   &= \\frac{x_p - x_w}{x_f - x_w}\\\\\n",
    "   &= \\frac{0.05 - 0.002}{0.9 - 0.002}\\\\\n",
    "   & \\\\\n",
    "   &= 0.0535\n",
    "\\end{align}\n",
    "\n",
    "We also know the amount of feed, F, was 500 tons.\n",
    "\n",
    "\\begin{align}\n",
    "FF = \\frac{F}{P}\\\\\n",
    "FF = 0.05\\\\\n",
    "F = 5.0\\times 10^5\\\\\n",
    "\\end{align}"
   ]
  },
  {
   "cell_type": "code",
   "execution_count": 20,
   "metadata": {},
   "outputs": [
    {
     "name": "stdout",
     "output_type": "stream",
     "text": [
      "0.053452115812917596  kg of the HEU are needed to produce 1kg fuel.\n",
      "Therefore,  18.708333333333332  kg of the new will be produced per kg of HEU\n",
      "Therefore,  9354166.666666666  kg of the new low enriched uranium was produced\n"
     ]
    }
   ],
   "source": [
    "F = 500000 # kg\n",
    "x_p = 0.05  # sold to US\n",
    "x_w = 0.002 # depleted U\n",
    "x_f = 0.9   # feed from  HEU\n",
    "\n",
    "def ff(x_p, x_w, x_f):\n",
    "    num = x_p - x_w\n",
    "    denom = x_f - x_w\n",
    "    return num/denom\n",
    "\n",
    "print(ff(x_p, x_w, x_f), \n",
    "      \" kg of the HEU are needed to produce 1kg fuel.\")\n",
    "print(\"Therefore, \",1/ff(x_p, x_w, x_f),\n",
    "      \" kg of the new will be produced per kg of HEU\")\n",
    "print(\"Therefore, \",F/ff(x_p, x_w, x_f),\n",
    "      \" kg of the new low enriched uranium was produced\")      \n"
   ]
  },
  {
   "cell_type": "markdown",
   "metadata": {},
   "source": [
    "Now, based on our fuel utilization discussions, how many MWh is that?\n",
    "\n",
    "\\begin{align}\n",
    "M = \\frac{Q}{BU}\\\\\n",
    "Q = \\frac{P_0 \\cdot CF \\cdot T}{\\eta_{th}}\\\\\n",
    "\\end{align}\n",
    "\n",
    "We want to solve for $P_0\\cdot CF \\cdot T$, which will be in units of MWd (and we can convert to MWh.)\n",
    "\\begin{align}\n",
    "\\Rightarrow &M = \\frac{P_0 \\cdot CF \\cdot T}{\\eta_{th}BU}\\\\\n",
    "\\Rightarrow &M \\eta_{th} BU = P_0 \\cdot CF \\cdot T\\\\\n",
    "\\Rightarrow &P_0 \\cdot CF \\cdot T [MWh] = M\\eta_{th}BU[MWd]\\times 24 \\left[\\frac{h}{d}\\right]  \\\\\n",
    "\\end{align}\n",
    "\n",
    "\n",
    "So, let's assume some typical values appropriate for 5% enriched fuel (this will give high-ish burnups).\n",
    "\n",
    "\\begin{align}\n",
    "\\eta_{th} = 0.33\\mbox{ [MWe/MWth]}\\\\ \n",
    "BU = 50000\\mbox{ [MWd/ton] } = 50 \\mbox{ [MWd/kg] }\\\\\n",
    "\\end{align}"
   ]
  },
  {
   "cell_type": "code",
   "execution_count": 22,
   "metadata": {},
   "outputs": [
    {
     "name": "stdout",
     "output_type": "stream",
     "text": [
      "And finally, the program produced  3.704250e+09  MWh.\n"
     ]
    }
   ],
   "source": [
    "M = F/ff(x_p, x_w, x_f)\n",
    "eta = 0.33\n",
    "h_per_d = 24\n",
    "bu = 50\n",
    "\n",
    "PCFT = M*eta*bu*h_per_d\n",
    "print(\"And finally, the program produced \",'%e' % PCFT, \" MWh.\")"
   ]
  },
  {
   "cell_type": "markdown",
   "metadata": {},
   "source": [
    "### 2003 North Korea pulls out of NPT\n",
    "The DPRK became the first country to pull out of the NPT under Article X.\n",
    "\n",
    "Began a series of nuclear weapons tests in October 2006. They conducted a total of 6 tests between 2006 and 2017,\n",
    "all of them being underground tests. One of the explosions was claimed to be a Hydrogen bomb. "
   ]
  },
  {
   "cell_type": "markdown",
   "metadata": {},
   "source": [
    "### 2011 New START Treaty goes into effect\n",
    "Part of START Treaty series between the US and Russia that bagen in 1991. New START \n",
    "initially was a 10 year agreement and was renewed for another 5 years in Jan/Feb 2021. \n",
    "Treaty expires February 4, 2026\n",
    "\n",
    "Limits the number of strategic weapons that each party can have\n",
    "- 700 deployed ICBMs, deployed SLBM, and deployed heavy bombers \n",
    "- 1550 warheads deployed on ICBMs, SLBM, and bombers (each bomber counts as 1 warhead)\n",
    "- 800 deployed and non-deployed ICBM launchers, SLBM launchers, and heavy bombers\n",
    "\n",
    "Allows each party to conduct inspections of the other parties stockpiles\n",
    "- 18 on-site inspections a year\n",
    "- Biannual data exchanges -- numbers and locations"
   ]
  },
  {
   "cell_type": "markdown",
   "metadata": {},
   "source": [
    "### 2015 Iran and the Joint Comprehensive Plan of Action (JCPOA)\n",
    "Multiple concerns over Iran developing a clandestine nuclear weapons program (and yes, \n",
    "Iran has signed and ratified the NPT). A history of Iran's nuclear history has been \n",
    "[written by NTI](https://www.nti.org/learn/countries/iran/nuclear/). \n",
    "Large concern over their enrichment program. \n",
    "Multiple sanctions were imposed on Iran by the US, the UN, and the EU. \n",
    "\n",
    "Developed JCPOA between Iran, US, China, Russia, UK, France, and Germany\n",
    "- Limits enrichment levels and types of centrifuges\n",
    "- Limits stockpiles of LEU\n",
    "\n",
    "#### 2018: The US pulled out of the agreement. \n",
    "Since then Iran has increased their enrichment levels,\n",
    "most recently [reaching 60% U-235](https://apnews.com/article/iran-uranium-enrichment-60-percent-ed89e322595004fddc65fd4e31c1131b).\n",
    "\n",
    "#### 2020/2021: \n",
    "- [Top Iran Nuclear Scientist killed](https://www.reuters.com/article/us-iran-nuclear-scientist/iranian-nuclear-scientist-killed-by-one-ton-automated-gun-in-israeli-hit-jewish-chronicle-idUSKBN2AA2RC)\n",
    "- [Cyber Attack on Natanz](https://apnews.com/article/world-news-israel-iran-62a7aa3182992ed0f97b5486d71280c2)\n",
    "- US is currently trying to re-enter the JCPOA \n"
   ]
  },
  {
   "cell_type": "markdown",
   "metadata": {},
   "source": [
    "### 2019 Nenoksa Accident\n",
    "Russian nuclear missile test site had an accident that killed 5 people. Russian \n",
    "government tried to pass it off as a fire and explosion after a \"test of a liquid \n",
    "propellant jet engine\". Later, officials at the lab came out that the scientists \n",
    "were looking into creating small-scale energy sources using fissile materials, \n",
    "similar to NASA's KiloPower project."
   ]
  },
  {
   "cell_type": "markdown",
   "metadata": {},
   "source": [
    "### Sensitive Points in the Fuel Cycle \n",
    "Based on what you know about the nuclear fuel cycle and nuclear weapons, what are parts of the \n",
    "fuel cycle that are sensitive to proliferation? What areas would we be more concerned about \n",
    "proliferation occurring?"
   ]
  },
  {
   "cell_type": "markdown",
   "metadata": {},
   "source": [
    "#  IAEA, Safeguards, MUF, SQ, Etc.\n",
    "\n",
    "\n",
    "Please note, the remainder of this lecture is a compilation of material from the following  sources.\n",
    "\n",
    "- [Nuclear 101: How IAEA Safeguards Work. Matthew Bunn.](https://www.youtube.com/watch?v=hQ-WSC-D-yw&index=1&list=PLp1QSxtgPnf49U1tLv15Mmq8sC-eyuBk9).\n",
    "- [NSSPI at TAMU](http://nsspi.tamu.edu/)\n",
    "- [Jake Vanderplas' AstroHackWeek intro to stats](https://github.com/AstroHackWeek/AstroHackWeek2014/blob/d172aae2736294d1fb61893f774cc6de0112ad7a/day2/ClassicalStatsPython.ipynb)"
   ]
  },
  {
   "cell_type": "markdown",
   "metadata": {},
   "source": [
    "## IAEA\n",
    "Facts about the IAEA. \n",
    "\n",
    "- What is it?\n",
    "- Where is it?\n",
    "- Why is it?\n",
    "- Who is it?\n",
    "- Who leads it?\n",
    "- Who works there?\n",
    "- When did it start?\n",
    "\n",
    "![iaea-priorities.png](./iaea-priorities.png)\n",
    "\n",
    "[https://www.iaea.org/sites/default/files/16/07/iaeaataglance0316.pdf](https://www.iaea.org/sites/default/files/16/07/iaeaataglance0316.pdf)\n",
    "- Year Founded : 1957\n",
    "- Member States 168\n",
    "- Number of Employees ca. 2,500\n",
    "- Laboratories 14\n",
    "- Headquarters Vienna, Austria\n",
    "- Liaison Offices \n",
    "  - Geneva, Switzerland\n",
    "  - New York, USA\n",
    "- Regional Offices \n",
    "  - Toronto, Canada\n",
    "  - Tokyo, Japan\n",
    "- Laboratories\n",
    "  - Seibersdorf, Austria\n",
    "  - Monaco\n",
    "  - Triste, Italy\n",
    "- Regular Budget : €359.3 million ($431.37 million)"
   ]
  },
  {
   "cell_type": "markdown",
   "metadata": {},
   "source": [
    "> In 2015, 709 facilities and 577 locations outside facilities in 181 States were under IAEA safeguards, making them subject to verification by IAEA inspectors. IAEA inspectors performed 2118 inspections, spending a total of 13 248 calendar days in the field.\n",
    "\n",
    "Being a safeguards inspector may be a job of interest for some of you. I encourage you to read through this: [https://www.iaea.org/newscenter/news/a-day-in-the-life-of-a-safeguards-inspector](https://www.iaea.org/newscenter/news/a-day-in-the-life-of-a-safeguards-inspector).\n",
    "\n",
    "![https://www.iaea.org/sites/default/files/styles/news_story_photo_new__16x9ratio_653width_/public/safeguards_inspectors_day_text.png?itok=UY6pQNbS](https://www.iaea.org/sites/default/files/styles/news_story_photo_new__16x9ratio_653width_/public/safeguards_inspectors_day_text.png?itok=UY6pQNbS)\n",
    "\n",
    "![https://www.iaea.org/sites/default/files/styles/news_story_photo_new__16x9ratio_653width_/public/16/10/inspectorsday_653x490.jpg?itok=3WnU2ujs](https://www.iaea.org/sites/default/files/styles/news_story_photo_new__16x9ratio_653width_/public/16/10/inspectorsday_653x490.jpg?itok=3WnU2ujs)"
   ]
  },
  {
   "cell_type": "markdown",
   "metadata": {},
   "source": [
    "## Material Accountancy"
   ]
  },
  {
   "cell_type": "code",
   "execution_count": 4,
   "metadata": {},
   "outputs": [
    {
     "data": {
      "text/html": [
       "\n",
       "        <iframe\n",
       "            width=\"1000\"\n",
       "            height=\"1000\"\n",
       "            src=\"http://nsspi-nssep.org/nssep/reference/technical-safeguards-terminology/purpose%2c-objective%2c-and-scope-of-iaea-safeguards.html\"\n",
       "            frameborder=\"0\"\n",
       "            allowfullscreen\n",
       "        ></iframe>\n",
       "        "
      ],
      "text/plain": [
       "<IPython.lib.display.IFrame at 0x7ff8646d0590>"
      ]
     },
     "execution_count": 4,
     "metadata": {},
     "output_type": "execute_result"
    }
   ],
   "source": [
    "IFrame(\"http://nsspi-nssep.org/nssep/reference/technical-safeguards-terminology/purpose%2c-objective%2c-and-scope-of-iaea-safeguards.html\", width=1000, height=1000)"
   ]
  },
  {
   "cell_type": "markdown",
   "metadata": {},
   "source": [
    "### Significant Quantities\n",
    "Direct use nuclear material\n",
    "\n",
    "|  Material    |  SQ       |\n",
    "|--------|---------|\n",
    "| Pu    | \t8 kg  Pu | \n",
    "| 233U\t | 8 kg  233U |\n",
    "| HEU (235U $\\ge$ 20%) | \t25 kg 235U |  \n",
    "\n",
    "Indirect use nuclear material\n",
    "\n",
    "|  Material    |  SQ       |\n",
    "|--------|---------|\n",
    "| U(235U < 20%) |\t75 kg 235U | \n",
    "| Natural U | 10 t |\n",
    "| Depleted U | 20t |\n",
    "| Th\t| 20 t  Th |\n",
    "\n",
    "\n",
    "### Example: Significant Quantity\n",
    "\n",
    "A small nuclear nation purchases, on the black market, 35 kg of 40% enriched uranium. How many significant quantities is that?"
   ]
  },
  {
   "cell_type": "code",
   "execution_count": 8,
   "metadata": {},
   "outputs": [
    {
     "data": {
      "text/plain": [
       "0.56"
      ]
     },
     "execution_count": 8,
     "metadata": {},
     "output_type": "execute_result"
    }
   ],
   "source": [
    "0.4*35/25"
   ]
  },
  {
   "cell_type": "markdown",
   "metadata": {},
   "source": [
    "### Aside: Other nuclear materials\n",
    "\n",
    "What materials might the IAEA also watch?\n",
    "\n",
    "## Containment and Surveillance\n",
    " \n",
    "So that the IAEA needs not re-inspect unaltered materials, a typical method is to contain and label that material with tamper-resistant labels or to apply surveillance to the facility.\n",
    "\n",
    "#### Containment\n",
    "\n",
    "![http://images.slideplayer.com/23/6889319/slides/slide_7.jpg](http://images.slideplayer.com/23/6889319/slides/slide_7.jpg)\n",
    "\n",
    "### Surveillance\n",
    "\n",
    "![http://images.slideplayer.com/23/6889319/slides/slide_8.jpg](http://images.slideplayer.com/23/6889319/slides/slide_8.jpg)"
   ]
  },
  {
   "cell_type": "markdown",
   "metadata": {},
   "source": [
    "## Material Unaccounted For\n",
    "\n",
    "\n",
    "The material unaccounted for is what we worry about. It may have been diverted by a **nefarious actor**.\n",
    "\n",
    "This is often written simply as the \"book inventory\" minus the \"ending physical inventory.\"\n",
    "\n",
    "\\begin{align}\n",
    "MUF &= BI - PE\\\\\n",
    "\\end{align}\n",
    "\n",
    "The book inventory is just the inventory in the beginning (or last time IAEA made an assessment) plus anything that was added and minus anything that was removed. \n",
    "\n",
    "\\begin{align}\n",
    "BI &= (PB + X - Y)\\\\\n",
    "MUF &= (PB + X - Y) - PE\\\\\n",
    "PB &= \\mbox{Beginning Physical inventory}\\\\\n",
    "X &= \\mbox{Increases to inventory}\\\\\n",
    "Y &= \\mbox{Removal from inventory}\\\\\n",
    "PE &= \\mbox{Ending Physical inventory}\\\\\n",
    "\\end{align}\n",
    "\n",
    "\n",
    "### Stream Diversion\n",
    "\n",
    "**ASIDE: Hanford example.**\n",
    "\n",
    "While MUF at each individual inspection may not be a signficant quantity, the sum might be. \n",
    "\n",
    "\\begin{align}\n",
    "MUF_c = \\sum_{t=t_i}^{t=t_f} MUF_t\n",
    "\\end{align}\n",
    "\n",
    "### Item v. Bulk Material Accounting\n",
    "\n",
    "For item based accounting one counts the **number** of things (assemblies, containers with tags), so MUF should be an integer. If $MUF \\ne 0$, either:\n",
    "\n",
    "- there has been an accounting error\n",
    "- there has been some diversion of items\n",
    "\n",
    "For bulk accounting, the MUF is rarely exactly zero. No detector is perfect, but also the processing of fluids, powders, gases, and other bulk masses is inherently lossy. So, it is important in this case to quantify the uncertainty in the material balance.\n",
    "\n",
    "\\begin{align}\n",
    "\\sigma_{MUF} = \\mbox{uncertainty of MUF}\\\\\n",
    "\\end{align}\n",
    "\n",
    "### Constraints\n",
    "\n",
    "The two following constraints are important red flags.\n",
    "\\begin{align}\n",
    "MUF< 3\\sigma_{MUF}\\\\\n",
    "MUF_c < 1 SQ\n",
    "\\end{align}\n",
    "\n",
    "\n",
    "## Measurement uncertainties\n",
    "\n",
    "**No detector is perfect** \n",
    "\n",
    "So, let's talk statistics. \n",
    "\n",
    "### Sampling\n",
    "![http://nsspi-nssep.org/media/187348/figure%201.%20measured%20values%20from%2020%20measurements%20of%20the%20same%20sample..jpg](http://nsspi-nssep.org/media/187348/figure%201.%20measured%20values%20from%2020%20measurements%20of%20the%20same%20sample..jpg)\n",
    "\n",
    "![http://nsspi-nssep.org/media/187353/figure%202.%20frequency%20of%20each%20measurement%20value%20occurring%20in%20the%20dataset%20of%2020%20measurements..jpg](http://nsspi-nssep.org/media/187353/figure%202.%20frequency%20of%20each%20measurement%20value%20occurring%20in%20the%20dataset%20of%2020%20measurements..jpg)\n",
    "\n",
    "#### Mean\n",
    "\n",
    "The mean is easy:\n",
    "\n",
    "\\begin{align}\n",
    "\\bar{x} = \\frac{1}{N}\\sum_{n=1}^{N}x_n\n",
    "\\end{align}\n",
    "\n",
    "\n",
    "\n",
    "#### Standard deviation:\n",
    "\n",
    "First, we describe the experimental variance ($\\sigma^2$). The standard deviation is the square root of the variance.\n",
    "\n",
    "\\begin{align}\n",
    "\\sigma = \\sqrt{\\frac{1}{N-1}\\sum_{i-1}^{N}(x_i -\\bar{x})^2}\n",
    "\\end{align}\n",
    "\n",
    "The relative standard deviation, S, is normalized by the mean:\n",
    "\n",
    "\\begin{align}\n",
    "S = \\frac{\\sigma}{\\bar{x}} = \\frac{\\sqrt{\\frac{1}{N-1}\\sum_{i-1}^{N}(x_i -\\bar{x})^2}}{\\bar{x}}\n",
    "\\end{align}\n",
    "\n",
    "\n",
    "#### Uncertainty\n",
    "\n",
    "The measured value ($\\bar{x}$) and the true value (T) differ because of uncertainty. First, there is random error, $\\epsilon$. Second, there is systematic error, $\\Delta$. These can be either negative or positive.\n",
    "\n",
    "\\begin{align}\n",
    "\\bar{x} = T + \\epsilon + \\Delta\n",
    "\\end{align}\n",
    "\n",
    "To model this, we can relate these errors back to the standard deviation, such that:\n",
    "\n",
    "\\begin{align}\n",
    "\\sigma^2 = \\sigma_r^2 + \\sigma_s^2\n",
    "\\end{align}"
   ]
  },
  {
   "cell_type": "markdown",
   "metadata": {},
   "source": [
    "### Example: MUF Uncertainty\n",
    "\n",
    "You are an inspector responsible for Pu balance in a specific MBA (material balance area) at LaHague.\n",
    "\n",
    "**On January 1,** \n",
    "- You measure 57kg of separated Pu.\n",
    "- You tag the containers with tamper-resistant seals.\n",
    "\n",
    "**On February 1,** \n",
    "- Two tagged containers (5kg total) are missing. Areva provides evidence they were sent to MOX fuel fabrication.\n",
    "- One new untagged container has appeared.\n",
    "- Their accounts say 100kg of spent fuel entered the facility in January and 1kg Pu was separated into the new container. \n",
    "- 99kg of non-Pu spent fuel remainder is present.\n",
    "\n",
    "**What is the book inventory for just Pu?**"
   ]
  },
  {
   "cell_type": "code",
   "execution_count": 9,
   "metadata": {},
   "outputs": [
    {
     "name": "stdout",
     "output_type": "stream",
     "text": [
      "53\n"
     ]
    }
   ],
   "source": [
    "\n",
    "PB = 57\n",
    "X = 1\n",
    "Y = 5\n",
    "BI = PB + X - Y \n",
    "\n",
    "print(BI)"
   ]
  },
  {
   "cell_type": "markdown",
   "metadata": {},
   "source": [
    "To determine the MUF, you take 10 readings of the new canister and you get the following results for its contained Pu amount:\n",
    "\n",
    "m = [1.30, 1.045, 1.012, 0.988, 0.998, 1.051, 1.087, 0.960, 0.91, 1.11]\n"
   ]
  },
  {
   "cell_type": "code",
   "execution_count": 10,
   "metadata": {
    "scrolled": true
   },
   "outputs": [
    {
     "name": "stdout",
     "output_type": "stream",
     "text": [
      "Mean of measurements:  1.0460999999999998\n",
      "MUF :  0.04609999999999981\n",
      "Has the 3sig limit been hit?  False\n"
     ]
    }
   ],
   "source": [
    "import math\n",
    "m = [1.30, 1.045, 1.012, 0.988, 0.998, 1.051, 1.087, 0.960, 0.91, 1.11]\n",
    "\n",
    "def mean(m):\n",
    "    return sum(m)/len(m)\n",
    "\n",
    "def var(m):\n",
    "    dif = 0\n",
    "    for i in m:\n",
    "        dif += pow(i-mean(m), 2)\n",
    "    sig_sq = dif/(len(m)-1)\n",
    "    sig = math.sqrt(sig_sq)\n",
    "    return sig\n",
    "\n",
    "def lim_sig(var, muf):\n",
    "    return (3*var < muf)\n",
    "\n",
    "print(\"Mean of measurements: \", mean(m))\n",
    "muf = abs(mean(m) - (BI - 52))\n",
    "print(\"MUF : \", muf)\n",
    "print('Has the 3sig limit been hit? ', lim_sig(var(m),muf))\n"
   ]
  },
  {
   "cell_type": "markdown",
   "metadata": {},
   "source": [
    "Let's say this kind of MUF value happens every month due to a diversion. **How many months until we hit the MUF_c limit?**\n",
    "\n"
   ]
  },
  {
   "cell_type": "code",
   "execution_count": 11,
   "metadata": {},
   "outputs": [
    {
     "name": "stdout",
     "output_type": "stream",
     "text": [
      "If MUF is due to diversion, the MUF_c limit will be struck in  173.53579175705062 months\n"
     ]
    }
   ],
   "source": [
    "pu_lim = 8 #kg\n",
    "print(\"If MUF is due to diversion, the MUF_c limit will be struck in \", pu_lim/muf, \"months\")"
   ]
  },
  {
   "cell_type": "markdown",
   "metadata": {},
   "source": [
    "### Number of measurements needed\n",
    "\n",
    "Okay, so we stated before that we're sortof confident in our measurement. How many samples does one have to take to draw appropriate conclusions. \n",
    "\n",
    "\\begin{align}\n",
    "n &= N\\left( 1 - \\beta^{x/M}\\right)\\\\\n",
    "n &= \\mbox{number of samples per item}\\\\\n",
    "N &= \\mbox{number of items per facility}\\\\\n",
    "\\beta &= \\mbox{non-detection probability}\\\\\n",
    "x &= \\mbox{average nuclear material weight}\\\\\n",
    "M &= \\mbox{mass detection goal}\\\\\n",
    "\\end{align}"
   ]
  },
  {
   "cell_type": "code",
   "execution_count": 8,
   "metadata": {},
   "outputs": [
    {
     "data": {
      "text/plain": [
       "18.223456604205744"
      ]
     },
     "execution_count": 8,
     "metadata": {},
     "output_type": "execute_result"
    }
   ],
   "source": [
    "# Imagine a facility with 100 cans of Pu\n",
    "N = 100 # PuOx cans\n",
    "x = 1.0 # kg Pu per can\n",
    "\n",
    "# How confident do we need to be?\n",
    "beta = 0.2 #80% confidence\n",
    "M = 8 #kg Pu, (1SQ)\n",
    "\n",
    "def n(items, beta, x, M):\n",
    "    return items*(1 - pow(beta, x/M))\n",
    "\n",
    "n(N, beta, x, M)"
   ]
  },
  {
   "cell_type": "markdown",
   "metadata": {},
   "source": [
    "\n",
    "## Wrap-Up\n",
    "\n",
    "At the end of this lesson, you should be equipped to:\n",
    "\n",
    "- Recognize the position and history of movements against nuclear weapons.\n",
    "- List key events in the history of nuclear weapons.\n",
    "- Identify nuclear weapons states.\n",
    "- Characterize the agreements between nuclear weapons states.\n",
    "- Analyze the historical relationship between nuclear weapons and nuclear power.\n",
    "- Name the national and international agency primarily responsible for enforcing non-proliferation treaties.\n",
    "- Recognize methods used to enforce nuclear safeguards.\n",
    "- Calculate MUF .\n",
    "- Calculate $\\sigma_{MUF}$.\n",
    "- Calculate signficant quantities (SQ).\n",
    "- Recognize the role of uncertainty in IAEA safeguards.\n",
    "- Evaluate compliance with the three sigma limit ($MUF< 3\\sigma_{MUF}$)\n",
    "- Evaluate compliance with the cumulative MUF limit. ($MUF_c < 1 SQ$)\n",
    "- Apply knowledge of the NPT to current and recent events. \n",
    "- Discuss the failures of our nuclear weapons program (e.g. Bikini Atoll)\n"
   ]
  },
  {
   "cell_type": "code",
   "execution_count": 1,
   "metadata": {},
   "outputs": [
    {
     "data": {
      "text/html": [
       "<video controls src=\"https://img.buzzfeed.com/buzzfeed-static/static/2014-07/3/11/enhanced/webdr04/anigif_enhanced-buzz-21275-1404402138-31.gif?output-format=mp4\" loop=1 autoplay width=100%/>"
      ],
      "text/plain": [
       "<IPython.core.display.HTML object>"
      ]
     },
     "execution_count": 1,
     "metadata": {},
     "output_type": "execute_result"
    }
   ],
   "source": [
    "from IPython.core.display import HTML\n",
    "HTML(\"\"\"<video controls src=\"{0}\" loop=1 autoplay width=100%/>\"\"\".format('https://img.buzzfeed.com/buzzfeed-static/static/2014-07/3/11/enhanced/webdr04/anigif_enhanced-buzz-21275-1404402138-31.gif?output-format=mp4'))\n"
   ]
  }
 ],
 "metadata": {
  "anaconda-cloud": {},
  "kernelspec": {
   "display_name": "Python 3",
   "language": "python",
   "name": "python3"
  },
  "language_info": {
   "codemirror_mode": {
    "name": "ipython",
    "version": 3
   },
   "file_extension": ".py",
   "mimetype": "text/x-python",
   "name": "python",
   "nbconvert_exporter": "python",
   "pygments_lexer": "ipython3",
   "version": "3.7.6"
  }
 },
 "nbformat": 4,
 "nbformat_minor": 1
}
